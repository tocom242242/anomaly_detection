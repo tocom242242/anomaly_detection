{
  "nbformat": 4,
  "nbformat_minor": 0,
  "metadata": {
    "colab": {
      "name": "simple_ae.ipynb",
      "provenance": [],
      "authorship_tag": "ABX9TyOdmedUOGX4IeezFfFBnSYC",
      "include_colab_link": true
    },
    "kernelspec": {
      "name": "python3",
      "display_name": "Python 3"
    },
    "language_info": {
      "name": "python"
    }
  },
  "cells": [
    {
      "cell_type": "markdown",
      "metadata": {
        "id": "view-in-github",
        "colab_type": "text"
      },
      "source": [
        "<a href=\"https://colab.research.google.com/github/tocom242242/anomaly_detection/blob/main/fashion_mnist/simple_ae.ipynb\" target=\"_parent\"><img src=\"https://colab.research.google.com/assets/colab-badge.svg\" alt=\"Open In Colab\"/></a>"
      ]
    },
    {
      "cell_type": "code",
      "metadata": {
        "id": "cBATv9KRb-xx"
      },
      "source": [
        "from sklearn.metrics import roc_auc_score, roc_curve\n",
        "import matplotlib.pyplot as plt\n",
        "import numpy as np\n",
        "from tensorflow.keras import datasets, layers, models\n",
        "from sklearn.metrics import confusion_matrix\n",
        "from sklearn.metrics import classification_report"
      ],
      "execution_count": null,
      "outputs": []
    },
    {
      "cell_type": "markdown",
      "metadata": {
        "id": "ilDrISp1grj-"
      },
      "source": [
        ""
      ]
    },
    {
      "cell_type": "markdown",
      "metadata": {
        "id": "tr6ncw7Fu8RJ"
      },
      "source": [
        "## データの読み込み"
      ]
    },
    {
      "cell_type": "code",
      "metadata": {
        "id": "OZ5eVnDkeEKK",
        "colab": {
          "base_uri": "https://localhost:8080/"
        },
        "outputId": "2d7efd09-4907-474a-aeb7-3f69292038d4"
      },
      "source": [
        "(x_train, y_train), (x_test, y_test) = datasets.fashion_mnist.load_data()"
      ],
      "execution_count": null,
      "outputs": [
        {
          "output_type": "stream",
          "text": [
            "Downloading data from https://storage.googleapis.com/tensorflow/tf-keras-datasets/train-labels-idx1-ubyte.gz\n",
            "32768/29515 [=================================] - 0s 0us/step\n",
            "Downloading data from https://storage.googleapis.com/tensorflow/tf-keras-datasets/train-images-idx3-ubyte.gz\n",
            "26427392/26421880 [==============================] - 0s 0us/step\n",
            "Downloading data from https://storage.googleapis.com/tensorflow/tf-keras-datasets/t10k-labels-idx1-ubyte.gz\n",
            "8192/5148 [===============================================] - 0s 0us/step\n",
            "Downloading data from https://storage.googleapis.com/tensorflow/tf-keras-datasets/t10k-images-idx3-ubyte.gz\n",
            "4423680/4422102 [==============================] - 0s 0us/step\n"
          ],
          "name": "stdout"
        }
      ]
    },
    {
      "cell_type": "code",
      "metadata": {
        "id": "vQSrlGuqeNyr"
      },
      "source": [
        "x_train = x_train / 255\n",
        "x_test = x_test / 255"
      ],
      "execution_count": null,
      "outputs": []
    },
    {
      "cell_type": "code",
      "metadata": {
        "id": "9Ur2CjwCSZlk"
      },
      "source": [
        "normal_idx = 5\n",
        "abnormal_idx = 7"
      ],
      "execution_count": null,
      "outputs": []
    },
    {
      "cell_type": "code",
      "metadata": {
        "id": "C6Y5cdNB3LFN"
      },
      "source": [
        "x_normal_train = x_train[np.where(y_train==normal_idx,True,False)]\n",
        "x_normal_test = x_test[np.where(y_test==normal_idx,True,False)]"
      ],
      "execution_count": null,
      "outputs": []
    },
    {
      "cell_type": "code",
      "metadata": {
        "id": "WrvaDnQa67o6"
      },
      "source": [
        "x_abnormal_train = x_train[np.where(y_train==abnormal_idx,True,False)]\n",
        "x_abnormal_test = x_test[np.where(y_test==abnormal_idx,True,False)]"
      ],
      "execution_count": null,
      "outputs": []
    },
    {
      "cell_type": "code",
      "metadata": {
        "id": "tnLJ80pV7Gn3"
      },
      "source": [
        "# 正常が1,異常が0\n",
        "y_test = np.concatenate((np.ones(x_normal_test.shape[0]),np.zeros(x_abnormal_test.shape[0])))"
      ],
      "execution_count": null,
      "outputs": []
    },
    {
      "cell_type": "code",
      "metadata": {
        "id": "cOg0lnb08zCV"
      },
      "source": [
        "x_test = np.concatenate((x_normal_test,x_abnormal_test))"
      ],
      "execution_count": null,
      "outputs": []
    },
    {
      "cell_type": "code",
      "metadata": {
        "colab": {
          "base_uri": "https://localhost:8080/",
          "height": 283
        },
        "id": "nRzBX-6h7BnB",
        "outputId": "2451df1f-835b-4205-fc58-f9d20c57675a"
      },
      "source": [
        "plt.imshow(x_normal_train[80])"
      ],
      "execution_count": null,
      "outputs": [
        {
          "output_type": "execute_result",
          "data": {
            "text/plain": [
              "<matplotlib.image.AxesImage at 0x7effdab7f310>"
            ]
          },
          "metadata": {
            "tags": []
          },
          "execution_count": 10
        },
        {
          "output_type": "display_data",
          "data": {
            "image/png": "[encoded data removed]",
            "text/plain": [
              "<Figure size 432x288 with 1 Axes>"
            ]
          },
          "metadata": {
            "tags": [],
            "needs_background": "light"
          }
        }
      ]
    },
    {
      "cell_type": "code",
      "metadata": {
        "colab": {
          "base_uri": "https://localhost:8080/",
          "height": 283
        },
        "id": "Ca2GNLC9Bsl8",
        "outputId": "85e0f287-5d66-479c-ae93-972ad1998145"
      },
      "source": [
        "plt.imshow(x_abnormal_train[80])"
      ],
      "execution_count": null,
      "outputs": [
        {
          "output_type": "execute_result",
          "data": {
            "text/plain": [
              "<matplotlib.image.AxesImage at 0x7effda6dcd10>"
            ]
          },
          "metadata": {
            "tags": []
          },
          "execution_count": 11
        },
        {
          "output_type": "display_data",
          "data": {
            "image/png": "[encoded data removed]",
            "text/plain": [
              "<Figure size 432x288 with 1 Axes>"
            ]
          },
          "metadata": {
            "tags": [],
            "needs_background": "light"
          }
        }
      ]
    },
    {
      "cell_type": "code",
      "metadata": {
        "id": "ot5E381wMNhG"
      },
      "source": [
        "x_test = x_test.reshape(x_test.shape[0], 28*28)\n",
        "x_normal_train = x_normal_train.reshape(x_normal_train.shape[0], 28*28)"
      ],
      "execution_count": null,
      "outputs": []
    },
    {
      "cell_type": "markdown",
      "metadata": {
        "id": "6r1NEEv5MnEO"
      },
      "source": [
        "## ベースラインの評価"
      ]
    },
    {
      "cell_type": "code",
      "metadata": {
        "id": "1uWtP1pIFaiU",
        "colab": {
          "base_uri": "https://localhost:8080/"
        },
        "outputId": "4eadab34-dceb-4648-82e6-94d94b5ab8fd"
      },
      "source": [
        "from sklearn.svm import OneClassSVM\n",
        "\n",
        "svm = OneClassSVM()\n",
        "svm.fit(x_normal_train)"
      ],
      "execution_count": null,
      "outputs": [
        {
          "output_type": "execute_result",
          "data": {
            "text/plain": [
              "OneClassSVM(cache_size=200, coef0=0.0, degree=3, gamma='scale', kernel='rbf',\n",
              "            max_iter=-1, nu=0.5, shrinking=True, tol=0.001, verbose=False)"
            ]
          },
          "metadata": {
            "tags": []
          },
          "execution_count": 13
        }
      ]
    },
    {
      "cell_type": "code",
      "metadata": {
        "id": "xuyrtnEvW2R2",
        "colab": {
          "base_uri": "https://localhost:8080/"
        },
        "outputId": "109f3186-76d4-4832-c392-6ba89e65482f"
      },
      "source": [
        "y_score = svm.decision_function(x_test)\n",
        "auc_baseline = roc_auc_score(y_test,y_score)\n",
        "auc_baseline"
      ],
      "execution_count": null,
      "outputs": [
        {
          "output_type": "execute_result",
          "data": {
            "text/plain": [
              "0.509236"
            ]
          },
          "metadata": {
            "tags": []
          },
          "execution_count": 14
        }
      ]
    },
    {
      "cell_type": "code",
      "metadata": {
        "id": "_dLF8b1g5_Gu"
      },
      "source": [
        "def plot_roc(svm,x_test):\n",
        "    y_score = svm.decision_function(x_test)\n",
        "    auc = roc_auc_score(y_test,y_score)\n",
        "    fpr, tpr, thresholds = roc_curve(y_test, y_score)\n",
        "    plt.plot(fpr, tpr, label='baseline(AUC = %.2f)'%auc)\n",
        "    plt.plot([0,1],[0,1],'k--')\n",
        "    plt.legend()\n",
        "    plt.title('ROC curve')\n",
        "    plt.xlabel('False Positive Rate')\n",
        "    plt.ylabel('True Positive Rate')\n",
        "    plt.grid(True)\n",
        "    plt.show()"
      ],
      "execution_count": null,
      "outputs": []
    },
    {
      "cell_type": "code",
      "metadata": {
        "id": "NlyBkOlheCIJ"
      },
      "source": [
        "fpr_baseline, tpr_baseline, thresholds = roc_curve(y_test, y_score)"
      ],
      "execution_count": null,
      "outputs": []
    },
    {
      "cell_type": "code",
      "metadata": {
        "id": "62S3k3tEF7He",
        "colab": {
          "base_uri": "https://localhost:8080/",
          "height": 295
        },
        "outputId": "d2388cb5-eabf-470a-8e6f-d58689daabbe"
      },
      "source": [
        "plt.plot(fpr_baseline, tpr_baseline, label='baseline(AUC = %.2f)'%auc_baseline)\n",
        "plt.plot([0,1],[0,1],'k--')\n",
        "plt.legend()\n",
        "plt.title('ROC curve')\n",
        "plt.xlabel('False Positive Rate')\n",
        "plt.ylabel('True Positive Rate')\n",
        "plt.grid(True)\n",
        "plt.show()"
      ],
      "execution_count": null,
      "outputs": [
        {
          "output_type": "display_data",
          "data": {
            "image/png": "[encoded data removed]",
            "text/plain": [
              "<Figure size 432x288 with 1 Axes>"
            ]
          },
          "metadata": {
            "tags": [],
            "needs_background": "light"
          }
        }
      ]
    },
    {
      "cell_type": "markdown",
      "metadata": {
        "id": "PWReFAydfZVd"
      },
      "source": [
        "## オートエンコーダーを使って特徴量抽出した後にOne Class SVMによって異常検知"
      ]
    },
    {
      "cell_type": "code",
      "metadata": {
        "id": "ZaMc0L504EAa",
        "colab": {
          "base_uri": "https://localhost:8080/"
        },
        "outputId": "210182c2-b439-4eb0-fa43-c97f89c40fe2"
      },
      "source": [
        "import tensorflow as tf\n",
        "from tensorflow.keras import layers, losses\n",
        "from tensorflow.keras.models import Model\n",
        "\n",
        "latent_dim = 2 \n",
        "\n",
        "class Autoencoder(Model):\n",
        "  def __init__(self, latent_dim):\n",
        "    super(Autoencoder, self).__init__()\n",
        "    self.latent_dim = latent_dim   \n",
        "    self.encoder = tf.keras.Sequential([\n",
        "    #   layers.Flatten(),\n",
        "      layers.Dense(128, activation='relu'),\n",
        "      layers.Dense(64, activation='relu'),\n",
        "      layers.Dense(32, activation='relu'),\n",
        "      layers.Dense(latent_dim, activation='relu'),\n",
        "    ])\n",
        "    self.decoder = tf.keras.Sequential([\n",
        "      layers.Dense(32, activation='relu'),\n",
        "      layers.Dense(64, activation='relu'),\n",
        "      layers.Dense(128, activation='relu'),\n",
        "      layers.Dense(784, activation='sigmoid'),\n",
        "    #   layers.Reshape((28, 28))\n",
        "    ])\n",
        "\n",
        "  def call(self, x):\n",
        "    encoded = self.encoder(x)\n",
        "    decoded = self.decoder(encoded)\n",
        "    return decoded\n",
        "\n",
        "autoencoder = Autoencoder(latent_dim)\n",
        "autoencoder.compile(optimizer='adam', loss=losses.MeanSquaredError())\n",
        "\n",
        "history = autoencoder.fit(x_normal_train, x_normal_train,\n",
        "                epochs=50,\n",
        "                shuffle=True)\n",
        "\n",
        "# decoded_imgs = autoencoder.decoder(features).numpy()"
      ],
      "execution_count": null,
      "outputs": [
        {
          "output_type": "stream",
          "text": [
            "Epoch 1/50\n",
            "188/188 [==============================] - 2s 5ms/step - loss: 0.0671\n",
            "Epoch 2/50\n",
            "188/188 [==============================] - 1s 4ms/step - loss: 0.0429\n",
            "Epoch 3/50\n",
            "188/188 [==============================] - 1s 5ms/step - loss: 0.0364\n",
            "Epoch 4/50\n",
            "188/188 [==============================] - 1s 4ms/step - loss: 0.0329\n",
            "Epoch 5/50\n",
            "188/188 [==============================] - 1s 4ms/step - loss: 0.0318\n",
            "Epoch 6/50\n",
            "188/188 [==============================] - 1s 5ms/step - loss: 0.0313\n",
            "Epoch 7/50\n",
            "188/188 [==============================] - 1s 4ms/step - loss: 0.0309\n",
            "Epoch 8/50\n",
            "188/188 [==============================] - 1s 4ms/step - loss: 0.0307\n",
            "Epoch 9/50\n",
            "188/188 [==============================] - 1s 5ms/step - loss: 0.0305\n",
            "Epoch 10/50\n",
            "188/188 [==============================] - 1s 4ms/step - loss: 0.0304\n",
            "Epoch 11/50\n",
            "188/188 [==============================] - 1s 4ms/step - loss: 0.0303\n",
            "Epoch 12/50\n",
            "188/188 [==============================] - 1s 5ms/step - loss: 0.0302\n",
            "Epoch 13/50\n",
            "188/188 [==============================] - 1s 5ms/step - loss: 0.0301\n",
            "Epoch 14/50\n",
            "188/188 [==============================] - 1s 4ms/step - loss: 0.0300\n",
            "Epoch 15/50\n",
            "188/188 [==============================] - 1s 5ms/step - loss: 0.0299\n",
            "Epoch 16/50\n",
            "188/188 [==============================] - 1s 4ms/step - loss: 0.0298\n",
            "Epoch 17/50\n",
            "188/188 [==============================] - 1s 4ms/step - loss: 0.0297\n",
            "Epoch 18/50\n",
            "188/188 [==============================] - 1s 4ms/step - loss: 0.0297\n",
            "Epoch 19/50\n",
            "188/188 [==============================] - 1s 4ms/step - loss: 0.0296\n",
            "Epoch 20/50\n",
            "188/188 [==============================] - 1s 4ms/step - loss: 0.0295\n",
            "Epoch 21/50\n",
            "188/188 [==============================] - 1s 4ms/step - loss: 0.0295\n",
            "Epoch 22/50\n",
            "188/188 [==============================] - 1s 4ms/step - loss: 0.0295\n",
            "Epoch 23/50\n",
            "188/188 [==============================] - 1s 4ms/step - loss: 0.0294\n",
            "Epoch 24/50\n",
            "188/188 [==============================] - 1s 4ms/step - loss: 0.0293\n",
            "Epoch 25/50\n",
            "188/188 [==============================] - 1s 4ms/step - loss: 0.0293\n",
            "Epoch 26/50\n",
            "188/188 [==============================] - 1s 5ms/step - loss: 0.0293\n",
            "Epoch 27/50\n",
            "188/188 [==============================] - 1s 4ms/step - loss: 0.0292\n",
            "Epoch 28/50\n",
            "188/188 [==============================] - 1s 4ms/step - loss: 0.0292\n",
            "Epoch 29/50\n",
            "188/188 [==============================] - 1s 4ms/step - loss: 0.0292\n",
            "Epoch 30/50\n",
            "188/188 [==============================] - 1s 4ms/step - loss: 0.0291\n",
            "Epoch 31/50\n",
            "188/188 [==============================] - 1s 4ms/step - loss: 0.0291\n",
            "Epoch 32/50\n",
            "188/188 [==============================] - 1s 4ms/step - loss: 0.0290\n",
            "Epoch 33/50\n",
            "188/188 [==============================] - 1s 5ms/step - loss: 0.0290\n",
            "Epoch 34/50\n",
            "188/188 [==============================] - 1s 5ms/step - loss: 0.0290\n",
            "Epoch 35/50\n",
            "188/188 [==============================] - 1s 5ms/step - loss: 0.0289\n",
            "Epoch 36/50\n",
            "188/188 [==============================] - 1s 4ms/step - loss: 0.0289\n",
            "Epoch 37/50\n",
            "188/188 [==============================] - 1s 4ms/step - loss: 0.0288\n",
            "Epoch 38/50\n",
            "188/188 [==============================] - 1s 4ms/step - loss: 0.0288\n",
            "Epoch 39/50\n",
            "188/188 [==============================] - 1s 4ms/step - loss: 0.0288\n",
            "Epoch 40/50\n",
            "188/188 [==============================] - 1s 4ms/step - loss: 0.0288\n",
            "Epoch 41/50\n",
            "188/188 [==============================] - 1s 5ms/step - loss: 0.0287\n",
            "Epoch 42/50\n",
            "188/188 [==============================] - 1s 4ms/step - loss: 0.0287\n",
            "Epoch 43/50\n",
            "188/188 [==============================] - 1s 4ms/step - loss: 0.0286\n",
            "Epoch 44/50\n",
            "188/188 [==============================] - 1s 4ms/step - loss: 0.0286\n",
            "Epoch 45/50\n",
            "188/188 [==============================] - 1s 5ms/step - loss: 0.0286\n",
            "Epoch 46/50\n",
            "188/188 [==============================] - 1s 5ms/step - loss: 0.0286\n",
            "Epoch 47/50\n",
            "188/188 [==============================] - 1s 5ms/step - loss: 0.0285\n",
            "Epoch 48/50\n",
            "188/188 [==============================] - 1s 5ms/step - loss: 0.0285\n",
            "Epoch 49/50\n",
            "188/188 [==============================] - 1s 5ms/step - loss: 0.0285\n",
            "Epoch 50/50\n",
            "188/188 [==============================] - 1s 5ms/step - loss: 0.0284\n"
          ],
          "name": "stdout"
        }
      ]
    },
    {
      "cell_type": "code",
      "metadata": {
        "id": "P1F6uOWj526O"
      },
      "source": [
        "svm = OneClassSVM()\n",
        "x_normal_train = autoencoder.encoder(x_normal_train).numpy()\n",
        "svm.fit(x_normal_train)\n",
        "\n",
        "# x_test = autoencoder.encoder(x_test).numpy()\n",
        "x_test = autoencoder.encoder(x_test).numpy()\n",
        "# plot_roc(svm,x_test)"
      ],
      "execution_count": null,
      "outputs": []
    },
    {
      "cell_type": "code",
      "metadata": {
        "id": "nFmmK4L37Epc",
        "colab": {
          "base_uri": "https://localhost:8080/",
          "height": 295
        },
        "outputId": "26d7884b-a49d-4bce-bbf3-537ddbc9e670"
      },
      "source": [
        "y_score = svm.decision_function(x_test)\n",
        "auc_ae = roc_auc_score(y_test,y_score)\n",
        "fpr_ae, tpr_ae, thresholds = roc_curve(y_test, y_score)\n",
        "plt.plot(fpr_baseline, tpr_baseline, label='baseline(AUC = %.2f)'%auc_baseline)\n",
        "plt.plot(fpr_ae, tpr_ae, label='Auto Encoder(AUC = %.2f)'%auc_ae)\n",
        "plt.plot([0,1],[0,1],'k--')\n",
        "plt.legend()\n",
        "plt.title('ROC curve')\n",
        "plt.xlabel('False Positive Rate')\n",
        "plt.ylabel('True Positive Rate')\n",
        "plt.grid(True)\n",
        "plt.show()"
      ],
      "execution_count": null,
      "outputs": [
        {
          "output_type": "display_data",
          "data": {
            "image/png": "[encoded data removed]",
            "text/plain": [
              "<Figure size 432x288 with 1 Axes>"
            ]
          },
          "metadata": {
            "tags": [],
            "needs_background": "light"
          }
        }
      ]
    },
    {
      "cell_type": "code",
      "metadata": {
        "id": "tFXMTh_96-5N",
        "colab": {
          "base_uri": "https://localhost:8080/",
          "height": 287
        },
        "outputId": "06e0e0a5-e274-4c8b-d877-8e8373658cca"
      },
      "source": [
        "plt.scatter(x_test[:, 0], x_test[:, 1], c=y_pred)\n",
        "plt.colorbar()\n"
      ],
      "execution_count": null,
      "outputs": [
        {
          "output_type": "execute_result",
          "data": {
            "text/plain": [
              "<matplotlib.colorbar.Colorbar at 0x7effd2b49390>"
            ]
          },
          "metadata": {
            "tags": []
          },
          "execution_count": 23
        },
        {
          "output_type": "display_data",
          "data": {
            "image/png": "[encoded data removed]",
            "text/plain": [
              "<Figure size 432x288 with 2 Axes>"
            ]
          },
          "metadata": {
            "tags": [],
            "needs_background": "light"
          }
        }
      ]
    },
    {
      "cell_type": "code",
      "metadata": {
        "id": "wEzr0t-jDFhJ",
        "colab": {
          "base_uri": "https://localhost:8080/",
          "height": 287
        },
        "outputId": "bd541105-7876-46e6-f57c-5a4336a5ba88"
      },
      "source": [
        "plt.scatter(x_test[:, 0], x_test[:, 1], c=y_test)\n",
        "plt.colorbar()"
      ],
      "execution_count": null,
      "outputs": [
        {
          "output_type": "execute_result",
          "data": {
            "text/plain": [
              "<matplotlib.colorbar.Colorbar at 0x7effd2bc4cd0>"
            ]
          },
          "metadata": {
            "tags": []
          },
          "execution_count": 24
        },
        {
          "output_type": "display_data",
          "data": {
            "image/png": "[encoded data removed]",
            "text/plain": [
              "<Figure size 432x288 with 2 Axes>"
            ]
          },
          "metadata": {
            "tags": [],
            "needs_background": "light"
          }
        }
      ]
    },
    {
      "cell_type": "code",
      "metadata": {
        "colab": {
          "base_uri": "https://localhost:8080/"
        },
        "id": "0_3jeQIAwnXe",
        "outputId": "884897d7-a74e-428d-ab1e-7c80ca17bafb"
      },
      "source": [
        "y_pred = svm.predict(x_test)\n",
        "y_pred = np.where(y_pred==-1,0,1)\n",
        "\n",
        "def evaluate_detection(y_pred, y_test):\n",
        "    print(confusion_matrix(y_test, y_pred))\n",
        "    print(classification_report(y_test,y_pred))\n",
        "evaluate_detection(y_pred, y_test)"
      ],
      "execution_count": null,
      "outputs": [
        {
          "output_type": "stream",
          "text": [
            "[[852 148]\n",
            " [495 505]]\n",
            "              precision    recall  f1-score   support\n",
            "\n",
            "         0.0       0.63      0.85      0.73      1000\n",
            "         1.0       0.77      0.51      0.61      1000\n",
            "\n",
            "    accuracy                           0.68      2000\n",
            "   macro avg       0.70      0.68      0.67      2000\n",
            "weighted avg       0.70      0.68      0.67      2000\n",
            "\n"
          ],
          "name": "stdout"
        }
      ]
    }
  ]
}