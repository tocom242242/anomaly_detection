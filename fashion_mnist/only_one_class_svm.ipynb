{
  "nbformat": 4,
  "nbformat_minor": 0,
  "metadata": {
    "colab": {
      "name": "only_one_class_svm.ipynb",
      "provenance": [],
      "authorship_tag": "ABX9TyNMRcvpc/GZu19L3cUl/mi9",
      "include_colab_link": true
    },
    "kernelspec": {
      "name": "python3",
      "display_name": "Python 3"
    },
    "language_info": {
      "name": "python"
    }
  },
  "cells": [
    {
      "cell_type": "markdown",
      "metadata": {
        "id": "view-in-github",
        "colab_type": "text"
      },
      "source": [
        "<a href=\"https://colab.research.google.com/github/tocom242242/anomaly_detection/blob/main/fashion_mnist/only_one_class_svm.ipynb\" target=\"_parent\"><img src=\"https://colab.research.google.com/assets/colab-badge.svg\" alt=\"Open In Colab\"/></a>"
      ]
    },
    {
      "cell_type": "code",
      "metadata": {
        "id": "cBATv9KRb-xx"
      },
      "source": [
        "from tensorflow.keras import datasets, layers, models\n",
        "import numpy as np"
      ],
      "execution_count": 1,
      "outputs": []
    },
    {
      "cell_type": "markdown",
      "metadata": {
        "id": "ilDrISp1grj-"
      },
      "source": [
        ""
      ]
    },
    {
      "cell_type": "code",
      "metadata": {
        "id": "OZ5eVnDkeEKK",
        "colab": {
          "base_uri": "https://localhost:8080/"
        },
        "outputId": "e69bdeb2-7b4c-4f93-e6b5-05db749d0c10"
      },
      "source": [
        "(x_train, y_train), (x_test, y_test) = datasets.fashion_mnist.load_data()"
      ],
      "execution_count": 2,
      "outputs": [
        {
          "output_type": "stream",
          "text": [
            "Downloading data from https://storage.googleapis.com/tensorflow/tf-keras-datasets/train-labels-idx1-ubyte.gz\n",
            "32768/29515 [=================================] - 0s 0us/step\n",
            "Downloading data from https://storage.googleapis.com/tensorflow/tf-keras-datasets/train-images-idx3-ubyte.gz\n",
            "26427392/26421880 [==============================] - 0s 0us/step\n",
            "Downloading data from https://storage.googleapis.com/tensorflow/tf-keras-datasets/t10k-labels-idx1-ubyte.gz\n",
            "8192/5148 [===============================================] - 0s 0us/step\n",
            "Downloading data from https://storage.googleapis.com/tensorflow/tf-keras-datasets/t10k-images-idx3-ubyte.gz\n",
            "4423680/4422102 [==============================] - 0s 0us/step\n"
          ],
          "name": "stdout"
        }
      ]
    },
    {
      "cell_type": "code",
      "metadata": {
        "id": "vQSrlGuqeNyr"
      },
      "source": [
        "x_train = x_train / 255\n",
        "x_test = x_test / 255"
      ],
      "execution_count": 3,
      "outputs": []
    },
    {
      "cell_type": "code",
      "metadata": {
        "id": "9Ur2CjwCSZlk"
      },
      "source": [
        "normal_idx = 5\n",
        "abnormal_idx = 7"
      ],
      "execution_count": 4,
      "outputs": []
    },
    {
      "cell_type": "code",
      "metadata": {
        "id": "C6Y5cdNB3LFN"
      },
      "source": [
        "x_normal_train = x_train[np.where(y_train==normal_idx,True,False)]\n",
        "x_normal_test = x_test[np.where(y_test==normal_idx,True,False)]"
      ],
      "execution_count": 5,
      "outputs": []
    },
    {
      "cell_type": "code",
      "metadata": {
        "id": "WrvaDnQa67o6"
      },
      "source": [
        "x_abnormal_train = x_train[np.where(y_train==abnormal_idx,True,False)]\n",
        "x_abnormal_test = x_test[np.where(y_test==abnormal_idx,True,False)]"
      ],
      "execution_count": 6,
      "outputs": []
    },
    {
      "cell_type": "code",
      "metadata": {
        "id": "tnLJ80pV7Gn3"
      },
      "source": [
        "# normalが1,異常が0\n",
        "y_test = np.concatenate((np.ones(x_normal_test.shape[0]),np.zeros(x_abnormal_test.shape[0])))"
      ],
      "execution_count": 7,
      "outputs": []
    },
    {
      "cell_type": "code",
      "metadata": {
        "id": "cOg0lnb08zCV"
      },
      "source": [
        "x_test = np.concatenate((x_normal_test,x_abnormal_test))"
      ],
      "execution_count": 8,
      "outputs": []
    },
    {
      "cell_type": "code",
      "metadata": {
        "colab": {
          "base_uri": "https://localhost:8080/",
          "height": 283
        },
        "id": "nRzBX-6h7BnB",
        "outputId": "b26f6618-be5f-4ded-ce39-27bf51cb72ca"
      },
      "source": [
        "import matplotlib.pyplot as plt\n",
        "plt.imshow(x_normal_train[80])"
      ],
      "execution_count": 9,
      "outputs": [
        {
          "output_type": "execute_result",
          "data": {
            "text/plain": [
              "<matplotlib.image.AxesImage at 0x7fa0bb508bd0>"
            ]
          },
          "metadata": {
            "tags": []
          },
          "execution_count": 9
        },
        {
          "output_type": "display_data",
          "data": {
            "image/png": "[encoded data removed]",
            "text/plain": [
              "<Figure size 432x288 with 1 Axes>"
            ]
          },
          "metadata": {
            "tags": [],
            "needs_background": "light"
          }
        }
      ]
    },
    {
      "cell_type": "code",
      "metadata": {
        "colab": {
          "base_uri": "https://localhost:8080/",
          "height": 283
        },
        "id": "Ca2GNLC9Bsl8",
        "outputId": "96b35f4c-c09f-4617-d43f-dc6de493bc28"
      },
      "source": [
        "plt.imshow(x_abnormal_train[80])"
      ],
      "execution_count": 10,
      "outputs": [
        {
          "output_type": "execute_result",
          "data": {
            "text/plain": [
              "<matplotlib.image.AxesImage at 0x7fa0c2c82890>"
            ]
          },
          "metadata": {
            "tags": []
          },
          "execution_count": 10
        },
        {
          "output_type": "display_data",
          "data": {
            "image/png": "[encoded data removed]",
            "text/plain": [
              "<Figure size 432x288 with 1 Axes>"
            ]
          },
          "metadata": {
            "tags": [],
            "needs_background": "light"
          }
        }
      ]
    },
    {
      "cell_type": "code",
      "metadata": {
        "id": "ot5E381wMNhG"
      },
      "source": [
        "x_test = x_test.reshape(x_test.shape[0], 28*28)\n",
        "x_normal_train = x_normal_train.reshape(x_normal_train.shape[0], 28*28)"
      ],
      "execution_count": 11,
      "outputs": []
    },
    {
      "cell_type": "markdown",
      "metadata": {
        "id": "6r1NEEv5MnEO"
      },
      "source": [
        "## 異常検知"
      ]
    },
    {
      "cell_type": "code",
      "metadata": {
        "id": "1uWtP1pIFaiU",
        "colab": {
          "base_uri": "https://localhost:8080/"
        },
        "outputId": "3388289f-5ae0-46b3-986f-ac50d0421e4d"
      },
      "source": [
        "from sklearn.svm import OneClassSVM\n",
        "\n",
        "svm = OneClassSVM()\n",
        "svm.fit(x_normal_train)"
      ],
      "execution_count": 12,
      "outputs": [
        {
          "output_type": "execute_result",
          "data": {
            "text/plain": [
              "OneClassSVM(cache_size=200, coef0=0.0, degree=3, gamma='scale', kernel='rbf',\n",
              "            max_iter=-1, nu=0.5, shrinking=True, tol=0.001, verbose=False)"
            ]
          },
          "metadata": {
            "tags": []
          },
          "execution_count": 12
        }
      ]
    },
    {
      "cell_type": "code",
      "metadata": {
        "id": "xuyrtnEvW2R2",
        "colab": {
          "base_uri": "https://localhost:8080/"
        },
        "outputId": "dcc32aea-1616-4f82-d668-19fa9fba1eb2"
      },
      "source": [
        "y_score = svm.decision_function(x_test)\n",
        "from sklearn.metrics import roc_auc_score\n",
        "auc = roc_auc_score(y_test,y_score)\n",
        "auc"
      ],
      "execution_count": 13,
      "outputs": [
        {
          "output_type": "execute_result",
          "data": {
            "text/plain": [
              "0.509236"
            ]
          },
          "metadata": {
            "tags": []
          },
          "execution_count": 13
        }
      ]
    },
    {
      "cell_type": "code",
      "metadata": {
        "id": "NlyBkOlheCIJ"
      },
      "source": [
        "from sklearn.metrics import roc_curve\n",
        "fpr, tpr, thresholds = roc_curve(y_test, y_score)"
      ],
      "execution_count": 14,
      "outputs": []
    },
    {
      "cell_type": "code",
      "metadata": {
        "colab": {
          "base_uri": "https://localhost:8080/",
          "height": 295
        },
        "id": "62S3k3tEF7He",
        "outputId": "c07f7476-e727-4211-fbdb-3062e7047e78"
      },
      "source": [
        "plt.plot(fpr, tpr, label='baseline(AUC = %.2f)'%auc)\n",
        "plt.plot([0,1],[0,1],'k--')\n",
        "plt.legend()\n",
        "plt.title('ROC curve')\n",
        "plt.xlabel('False Positive Rate')\n",
        "plt.ylabel('True Positive Rate')\n",
        "plt.grid(True)\n",
        "plt.show()"
      ],
      "execution_count": 15,
      "outputs": [
        {
          "output_type": "display_data",
          "data": {
            "image/png": "[encoded data removed]",
            "text/plain": [
              "<Figure size 432x288 with 1 Axes>"
            ]
          },
          "metadata": {
            "tags": [],
            "needs_background": "light"
          }
        }
      ]
    },
    {
      "cell_type": "code",
      "metadata": {
        "colab": {
          "base_uri": "https://localhost:8080/"
        },
        "id": "c9RnjjP8Soai",
        "outputId": "3252e4e1-fa70-4dce-e368-599f98b9be20"
      },
      "source": [
        "y_pred = svm.predict(x_test)\n",
        "y_pred"
      ],
      "execution_count": 16,
      "outputs": [
        {
          "output_type": "execute_result",
          "data": {
            "text/plain": [
              "array([ 1,  1,  1, ..., -1, -1, -1])"
            ]
          },
          "metadata": {
            "tags": []
          },
          "execution_count": 16
        }
      ]
    },
    {
      "cell_type": "code",
      "metadata": {
        "id": "8nHEjS6USvSB"
      },
      "source": [
        "y_pred = np.where(y_pred==-1,0,1)\n",
        "# y_pred = np.where(y_pred==-1,1,0)"
      ],
      "execution_count": 17,
      "outputs": []
    },
    {
      "cell_type": "code",
      "metadata": {
        "colab": {
          "base_uri": "https://localhost:8080/"
        },
        "id": "GOnfZOxvUtaS",
        "outputId": "6a2dfaa5-c878-40e9-9fd7-6592d0aa2557"
      },
      "source": [
        "y_pred"
      ],
      "execution_count": 18,
      "outputs": [
        {
          "output_type": "execute_result",
          "data": {
            "text/plain": [
              "array([1, 1, 1, ..., 0, 0, 0])"
            ]
          },
          "metadata": {
            "tags": []
          },
          "execution_count": 18
        }
      ]
    },
    {
      "cell_type": "code",
      "metadata": {
        "colab": {
          "base_uri": "https://localhost:8080/"
        },
        "id": "n0obdYzHUwOl",
        "outputId": "918ad9ff-5d05-4e76-abb1-08ca1f0d458b"
      },
      "source": [
        "y_test"
      ],
      "execution_count": 19,
      "outputs": [
        {
          "output_type": "execute_result",
          "data": {
            "text/plain": [
              "array([1., 1., 1., ..., 0., 0., 0.])"
            ]
          },
          "metadata": {
            "tags": []
          },
          "execution_count": 19
        }
      ]
    },
    {
      "cell_type": "code",
      "metadata": {
        "colab": {
          "base_uri": "https://localhost:8080/"
        },
        "id": "VBgTl3sOTDOu",
        "outputId": "b08b5059-699e-49a6-dfbc-323d98b915b7"
      },
      "source": [
        "from sklearn.metrics import confusion_matrix\n",
        "confusion_matrix(y_test, y_pred)"
      ],
      "execution_count": 20,
      "outputs": [
        {
          "output_type": "execute_result",
          "data": {
            "text/plain": [
              "array([[597, 403],\n",
              "       [495, 505]])"
            ]
          },
          "metadata": {
            "tags": []
          },
          "execution_count": 20
        }
      ]
    },
    {
      "cell_type": "code",
      "metadata": {
        "colab": {
          "base_uri": "https://localhost:8080/"
        },
        "id": "a6CFSjz5TaAI",
        "outputId": "2b5346cc-6f1a-452b-d7a6-7b127ce782f6"
      },
      "source": [
        "from sklearn.metrics import classification_report\n",
        "print(classification_report(y_test,y_pred))"
      ],
      "execution_count": 21,
      "outputs": [
        {
          "output_type": "stream",
          "text": [
            "              precision    recall  f1-score   support\n",
            "\n",
            "         0.0       0.55      0.60      0.57      1000\n",
            "         1.0       0.56      0.51      0.53      1000\n",
            "\n",
            "    accuracy                           0.55      2000\n",
            "   macro avg       0.55      0.55      0.55      2000\n",
            "weighted avg       0.55      0.55      0.55      2000\n",
            "\n"
          ],
          "name": "stdout"
        }
      ]
    },
    {
      "cell_type": "code",
      "metadata": {
        "id": "x5jrER7bTNfD"
      },
      "source": [
        "# plt.scatter(x_test[:, 0], x_test[:, 1], c=y_pred, cmap=cm.seismic)\n",
        "# plt.scatter(x_test[:, 0], x_test[:, 1], c=y_pred)\n",
        "# plt.colorbar()\n"
      ],
      "execution_count": 22,
      "outputs": []
    }
  ]
}