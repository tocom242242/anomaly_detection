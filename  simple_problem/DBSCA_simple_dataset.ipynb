{
  "nbformat": 4,
  "nbformat_minor": 0,
  "metadata": {
    "colab": {
      "name": "DBSCA_simple_dataset.ipynb",
      "provenance": [],
      "collapsed_sections": [],
      "authorship_tag": "ABX9TyNtlNjqelYlbqorbzAf+ZSD",
      "include_colab_link": true
    },
    "kernelspec": {
      "name": "python3",
      "display_name": "Python 3"
    },
    "language_info": {
      "name": "python"
    }
  },
  "cells": [
    {
      "cell_type": "markdown",
      "metadata": {
        "id": "view-in-github",
        "colab_type": "text"
      },
      "source": [
        "<a href=\"https://colab.research.google.com/github/tocom242242/anomaly_detection/blob/main/%20simple_problem/DBSCA_simple_dataset.ipynb\" target=\"_parent\"><img src=\"https://colab.research.google.com/assets/colab-badge.svg\" alt=\"Open In Colab\"/></a>"
      ]
    },
    {
      "cell_type": "code",
      "metadata": {
        "id": "ITlvA_Zr3KU-"
      },
      "source": [
        "import numpy as np\n",
        "import matplotlib.pyplot as plt\n",
        "import matplotlib.cm as cm\n",
        "from sklearn import datasets\n",
        "from sklearn.cluster import DBSCAN"
      ],
      "execution_count": 24,
      "outputs": []
    },
    {
      "cell_type": "code",
      "metadata": {
        "id": "yS19IJWS3ggo"
      },
      "source": [
        "X, Y = datasets.make_blobs(n_samples=200, centers=2, n_features=2, cluster_std=0.4, random_state=0)"
      ],
      "execution_count": 25,
      "outputs": []
    },
    {
      "cell_type": "code",
      "metadata": {
        "colab": {
          "base_uri": "https://localhost:8080/",
          "height": 283
        },
        "id": "jBojAHds30zl",
        "outputId": "70540f3d-96a8-47f6-ff28-9bba9f8d0bf7"
      },
      "source": [
        "plt.scatter(X[:, 0], X[:, 1], c=\"blue\")"
      ],
      "execution_count": 26,
      "outputs": [
        {
          "output_type": "execute_result",
          "data": {
            "text/plain": [
              "<matplotlib.collections.PathCollection at 0x7f5364246110>"
            ]
          },
          "metadata": {
            "tags": []
          },
          "execution_count": 26
        },
        {
          "output_type": "display_data",
          "data": {
            "image/png": "[encoded data removed]",
            "text/plain": [
              "<Figure size 432x288 with 1 Axes>"
            ]
          },
          "metadata": {
            "tags": [],
            "needs_background": "light"
          }
        }
      ]
    },
    {
      "cell_type": "code",
      "metadata": {
        "id": "rohiww9T4ATv"
      },
      "source": [
        "clustering = DBSCAN(eps=0.2, min_samples=2).fit(X)"
      ],
      "execution_count": 27,
      "outputs": []
    },
    {
      "cell_type": "code",
      "metadata": {
        "colab": {
          "base_uri": "https://localhost:8080/"
        },
        "id": "-FiGq2hc4GZM",
        "outputId": "bfd753e5-ebda-48e9-d76a-160bd28fa1af"
      },
      "source": [
        "clustering.labels_"
      ],
      "execution_count": 28,
      "outputs": [
        {
          "output_type": "execute_result",
          "data": {
            "text/plain": [
              "array([ 0,  0,  0,  0,  1,  2,  2,  3,  0,  2,  0,  0,  2,  2,  0,  2, -1,\n",
              "        0,  0,  0,  0,  2,  2,  2,  1,  2,  0,  2,  0, -1,  2,  0,  0,  0,\n",
              "        2,  2,  0,  0,  2,  2,  2,  4,  0,  2,  2,  0,  2, -1,  2, -1,  0,\n",
              "        2,  2,  2,  0,  2,  1,  2,  0,  0,  0,  5,  2,  2,  1,  0,  0,  0,\n",
              "        2,  2, -1,  2,  0,  0,  0,  0, -1, -1,  3,  0,  2,  0, -1, -1,  0,\n",
              "       -1,  2,  0,  0,  0,  2,  3,  2,  2,  0,  0,  0,  2,  2,  0,  2,  0,\n",
              "        2,  2,  2,  2,  2,  2,  0,  2,  4,  1,  2,  2,  2,  0,  0,  0,  0,\n",
              "        0,  2,  0,  2,  0,  0,  0,  2,  0,  4,  2,  0,  2,  2,  0,  2,  6,\n",
              "        2,  0,  0,  5,  2,  0,  2,  2,  0,  2,  2,  2,  0,  0,  0,  2,  2,\n",
              "        2,  0,  2,  2,  0,  0,  0,  0,  1,  6,  4,  0,  0,  2,  2,  3,  3,\n",
              "        0,  0,  0,  2,  0,  2,  2,  2, -1, -1,  0,  2,  0,  2,  2,  2,  0,\n",
              "        0,  0,  2,  0,  2,  0,  0,  0,  0,  2,  6,  2,  2])"
            ]
          },
          "metadata": {
            "tags": []
          },
          "execution_count": 28
        }
      ]
    },
    {
      "cell_type": "code",
      "metadata": {
        "colab": {
          "base_uri": "https://localhost:8080/"
        },
        "id": "PyDLNGM_5-kf",
        "outputId": "73c61c69-47d7-4dc9-9d37-70e20f2adfaf"
      },
      "source": [
        "pred_x_abnormal = X[np.where(clustering.labels_==-1)]\n",
        "pred_x_abnormal"
      ],
      "execution_count": 29,
      "outputs": [
        {
          "output_type": "execute_result",
          "data": {
            "text/plain": [
              "array([[ 1.15304183,  0.48866092],\n",
              "       [ 0.99159863,  1.14019147],\n",
              "       [ 1.24299373,  1.7234608 ],\n",
              "       [ 2.9589911 ,  0.8807608 ],\n",
              "       [ 2.9768342 ,  0.47365733],\n",
              "       [ 1.99220071,  1.80035306],\n",
              "       [ 1.53265678,  1.56091593],\n",
              "       [-0.04492585,  4.56523477],\n",
              "       [ 0.293762  ,  5.08409749],\n",
              "       [ 1.72329366,  4.66620519],\n",
              "       [ 2.65306134,  0.06966965],\n",
              "       [ 2.21488606, -0.21137344]])"
            ]
          },
          "metadata": {
            "tags": []
          },
          "execution_count": 29
        }
      ]
    },
    {
      "cell_type": "code",
      "metadata": {
        "colab": {
          "base_uri": "https://localhost:8080/",
          "height": 283
        },
        "id": "tbD29MqVQ7PE",
        "outputId": "ebef78fc-ad09-45b8-a809-8070c41f3074"
      },
      "source": [
        "unique_labels = np.unique(clustering.labels_)\n",
        "for label in unique_labels:\n",
        "    x = X[np.where(clustering.labels_==label)]\n",
        "    plt.scatter(x[:, 0], x[:, 1],label=label)\n",
        "plt.legend()"
      ],
      "execution_count": 36,
      "outputs": [
        {
          "output_type": "execute_result",
          "data": {
            "text/plain": [
              "<matplotlib.legend.Legend at 0x7f535f9f4310>"
            ]
          },
          "metadata": {
            "tags": []
          },
          "execution_count": 36
        },
        {
          "output_type": "display_data",
          "data": {
            "image/png": "[encoded data removed]",
            "text/plain": [
              "<Figure size 432x288 with 1 Axes>"
            ]
          },
          "metadata": {
            "tags": [],
            "needs_background": "light"
          }
        }
      ]
    },
    {
      "cell_type": "code",
      "metadata": {
        "colab": {
          "base_uri": "https://localhost:8080/",
          "height": 283
        },
        "id": "5tG3Cawb6HKW",
        "outputId": "64e113f2-c1c3-459c-cdb5-eeb875c9e0db"
      },
      "source": [
        "plt.scatter(X[:, 0], X[:, 1], c=\"blue\")\n",
        "plt.scatter(pred_x_abnormal[:, 0], pred_x_abnormal[:, 1], c=\"red\")"
      ],
      "execution_count": 30,
      "outputs": [
        {
          "output_type": "execute_result",
          "data": {
            "text/plain": [
              "<matplotlib.collections.PathCollection at 0x7f53641afb90>"
            ]
          },
          "metadata": {
            "tags": []
          },
          "execution_count": 30
        },
        {
          "output_type": "display_data",
          "data": {
            "image/png": "[encoded data removed]",
            "text/plain": [
              "<Figure size 432x288 with 1 Axes>"
            ]
          },
          "metadata": {
            "tags": [],
            "needs_background": "light"
          }
        }
      ]
    },
    {
      "cell_type": "code",
      "metadata": {
        "id": "2nIJo_hC6R9A"
      },
      "source": [
        ""
      ],
      "execution_count": 30,
      "outputs": []
    }
  ]
}