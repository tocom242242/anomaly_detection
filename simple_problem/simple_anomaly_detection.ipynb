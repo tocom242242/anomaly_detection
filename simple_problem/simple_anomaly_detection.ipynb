{
  "nbformat": 4,
  "nbformat_minor": 0,
  "metadata": {
    "colab": {
      "name": "simple_anomaly_detection.ipynb",
      "provenance": [],
      "collapsed_sections": [],
      "authorship_tag": "ABX9TyPFtLqQzKgPqfd0NZxxmrWJ",
      "include_colab_link": true
    },
    "kernelspec": {
      "name": "python3",
      "display_name": "Python 3"
    },
    "language_info": {
      "name": "python"
    }
  },
  "cells": [
    {
      "cell_type": "markdown",
      "metadata": {
        "id": "view-in-github",
        "colab_type": "text"
      },
      "source": [
        "<a href=\"https://colab.research.google.com/github/tocom242242/anomaly_detection/blob/main/simple_problem/simple_anomaly_detection.ipynb\" target=\"_parent\"><img src=\"https://colab.research.google.com/assets/colab-badge.svg\" alt=\"Open In Colab\"/></a>"
      ]
    },
    {
      "cell_type": "code",
      "metadata": {
        "id": "D0bHet2wiQ0o"
      },
      "source": [
        "import numpy as np\n",
        "import matplotlib.pyplot as plt\n",
        "import matplotlib.cm as cm\n",
        "from sklearn import datasets\n",
        "from sklearn.metrics import classification_report, roc_auc_score, roc_curve, confusion_matrix\n",
        "from sklearn.svm import OneClassSVM"
      ],
      "execution_count": null,
      "outputs": []
    },
    {
      "cell_type": "code",
      "metadata": {
        "colab": {
          "base_uri": "https://localhost:8080/"
        },
        "id": "hEmwV3FxTIer",
        "outputId": "71c339e4-e58b-4e58-b50b-0a696110c026"
      },
      "source": [
        "X, Y = datasets.make_blobs(n_samples=200, centers=2, n_features=2,random_state=0)\n",
        "print(Y.shape)\n",
        "print(X.shape)"
      ],
      "execution_count": null,
      "outputs": [
        {
          "output_type": "stream",
          "text": [
            "(200,)\n",
            "(200, 2)\n"
          ],
          "name": "stdout"
        }
      ]
    },
    {
      "cell_type": "code",
      "metadata": {
        "id": "mBkqFteZOCT6"
      },
      "source": [
        "# X,Y = datasets.make_classification(n_samples=200,n_features=2,n_redundant=0)\n",
        "# print(Y.shape)\n",
        "# print(X.shape)"
      ],
      "execution_count": null,
      "outputs": []
    },
    {
      "cell_type": "code",
      "metadata": {
        "colab": {
          "base_uri": "https://localhost:8080/"
        },
        "id": "O75S1_bVdlV1",
        "outputId": "f9e6a99f-358f-41f8-ac6c-6f9499855c33"
      },
      "source": [
        "int(False)"
      ],
      "execution_count": null,
      "outputs": [
        {
          "output_type": "execute_result",
          "data": {
            "text/plain": [
              "0"
            ]
          },
          "metadata": {
            "tags": []
          },
          "execution_count": 33
        }
      ]
    },
    {
      "cell_type": "code",
      "metadata": {
        "id": "jXqtRW5hIWJ6"
      },
      "source": [
        "normal = 1\n",
        "abnormal = 0"
      ],
      "execution_count": null,
      "outputs": []
    },
    {
      "cell_type": "code",
      "metadata": {
        "id": "ULDEfS-F9q9C"
      },
      "source": [
        "# x_train = X[np.where(Y==1,True,False)]\n",
        "# y_train = Y[np.where(Y==1,True,False)]\n",
        "# x_test = X[np.where(Y==0,True,False)]\n",
        "\n",
        "x_normal = X[np.where(Y==normal,True,False)]\n",
        "y_normal = Y[np.where(Y==normal,True,False)]\n",
        "\n",
        "x_abnormal = X[np.where(Y==abnormal,True,False)]\n",
        "y_abnormal = Y[np.where(Y==abnormal,True,False)]"
      ],
      "execution_count": null,
      "outputs": []
    },
    {
      "cell_type": "code",
      "metadata": {
        "colab": {
          "base_uri": "https://localhost:8080/",
          "height": 283
        },
        "id": "H9lmFNshL5ny",
        "outputId": "b3ce1588-2136-4782-9a07-75740b4b9793"
      },
      "source": [
        "plt.scatter(x_normal[:, 0], x_normal[:, 1], c='grey')\n",
        "plt.xlim(-2,5)\n",
        "plt.ylim(-3,7)"
      ],
      "execution_count": null,
      "outputs": [
        {
          "output_type": "execute_result",
          "data": {
            "text/plain": [
              "(-3.0, 7.0)"
            ]
          },
          "metadata": {
            "tags": []
          },
          "execution_count": 36
        },
        {
          "output_type": "display_data",
          "data": {
            "image/png": "[encoded data removed]",
            "text/plain": [
              "<Figure size 432x288 with 1 Axes>"
            ]
          },
          "metadata": {
            "tags": [],
            "needs_background": "light"
          }
        }
      ]
    },
    {
      "cell_type": "code",
      "metadata": {
        "colab": {
          "base_uri": "https://localhost:8080/",
          "height": 283
        },
        "id": "7XIkC7QWAX-S",
        "outputId": "545c819e-e5e7-4de6-f773-abf9e5e2d660"
      },
      "source": [
        "# plt.scatter(X[:, 0], X[:, 1], c=Y, cmap=cm.seismic)\n",
        "plt.scatter(x_normal[:, 0], x_normal[:, 1], c=\"grey\")\n",
        "plt.scatter(x_abnormal[:, 0], x_abnormal[:, 1], c=\"gold\")"
      ],
      "execution_count": null,
      "outputs": [
        {
          "output_type": "execute_result",
          "data": {
            "text/plain": [
              "<matplotlib.collections.PathCollection at 0x7f7b2bc1fe50>"
            ]
          },
          "metadata": {
            "tags": []
          },
          "execution_count": 37
        },
        {
          "output_type": "display_data",
          "data": {
            "image/png": "[encoded data removed]",
            "text/plain": [
              "<Figure size 432x288 with 1 Axes>"
            ]
          },
          "metadata": {
            "tags": [],
            "needs_background": "light"
          }
        }
      ]
    },
    {
      "cell_type": "code",
      "metadata": {
        "id": "bqumxr0WOMkc"
      },
      "source": [
        ""
      ],
      "execution_count": null,
      "outputs": []
    },
    {
      "cell_type": "code",
      "metadata": {
        "id": "nGSWbqobAyDO"
      },
      "source": [
        "svm = OneClassSVM(kernel='rbf', nu=0.2, gamma=1e-04)\n",
        "svm.fit(x_normal)\n",
        "\n",
        "\n",
        "y_pred = svm.predict(X)"
      ],
      "execution_count": null,
      "outputs": []
    },
    {
      "cell_type": "code",
      "metadata": {
        "colab": {
          "base_uri": "https://localhost:8080/",
          "height": 279
        },
        "id": "ly8Sz4gbBXDl",
        "outputId": "ed4bba06-9975-4111-fdbd-ee290b0a46ff"
      },
      "source": [
        "x1_min, x1_max = X[:, 0].min() - 2, X[:, 0].max() + 2\n",
        "x2_min, x2_max = X[:, 1].min() - 2, X[:, 1].max() + 2\n",
        "\n",
        "x1_ = np.linspace(x1_min, x1_max, 500)\n",
        "x2_ = np.linspace(x2_min, x2_max, 500)\n",
        "\n",
        "xx1, xx2 = np.meshgrid(x1_, x2_)\n",
        "\n",
        "z = svm.decision_function(np.c_[xx1.ravel(), xx2.ravel()])\n",
        "z = z.reshape(xx1.shape)\n",
        "\n",
        "plt.contourf(xx1, xx2, z, cmap=plt.cm.PuBu)\n",
        "a = plt.contour(xx1, xx2, z, levels=[0], linewidths=2, colors='darkred')\n",
        "b = plt.scatter(X[Y == normal, 0], X[Y == normal, 1], c='grey', edgecolors='k')\n",
        "c = plt.scatter(X[Y == abnormal, 0], X[Y == abnormal, 1], c='gold', edgecolors='k')\n",
        "plt.legend([a.collections[0], b, c], ['learned frontier', 'normal', 'abnormal'], bbox_to_anchor=(1.05, 1))\n",
        "plt.xlabel('x1')\n",
        "plt.ylabel('x2')\n",
        "plt.axis('tight')\n",
        "plt.show()"
      ],
      "execution_count": null,
      "outputs": [
        {
          "output_type": "display_data",
          "data": {
            "image/png": "[encoded data removed]",
            "text/plain": [
              "<Figure size 432x288 with 1 Axes>"
            ]
          },
          "metadata": {
            "tags": [],
            "needs_background": "light"
          }
        }
      ]
    },
    {
      "cell_type": "code",
      "metadata": {
        "id": "U5SAC5OM3ix2"
      },
      "source": [
        "# np.place(Y, Y==0,-1)\n",
        "np.place(y_pred, y_pred==-1,0)"
      ],
      "execution_count": null,
      "outputs": []
    },
    {
      "cell_type": "code",
      "metadata": {
        "colab": {
          "base_uri": "https://localhost:8080/"
        },
        "id": "-y60o2T_4yrB",
        "outputId": "18c4f90f-36b8-4cda-d372-c3438c888f30"
      },
      "source": [
        "confusion_matrix(Y, y_pred)"
      ],
      "execution_count": null,
      "outputs": [
        {
          "output_type": "execute_result",
          "data": {
            "text/plain": [
              "array([[100,   0],\n",
              "       [ 19,  81]])"
            ]
          },
          "metadata": {
            "tags": []
          },
          "execution_count": 41
        }
      ]
    },
    {
      "cell_type": "code",
      "metadata": {
        "colab": {
          "base_uri": "https://localhost:8080/"
        },
        "id": "GpLlZAgx40Y_",
        "outputId": "f4248e77-0c2d-4b10-922e-c6d34c5f1bba"
      },
      "source": [
        "print(classification_report(Y,y_pred))"
      ],
      "execution_count": null,
      "outputs": [
        {
          "output_type": "stream",
          "text": [
            "              precision    recall  f1-score   support\n",
            "\n",
            "           0       0.84      1.00      0.91       100\n",
            "           1       1.00      0.81      0.90       100\n",
            "\n",
            "    accuracy                           0.91       200\n",
            "   macro avg       0.92      0.91      0.90       200\n",
            "weighted avg       0.92      0.91      0.90       200\n",
            "\n"
          ],
          "name": "stdout"
        }
      ]
    },
    {
      "cell_type": "code",
      "metadata": {
        "colab": {
          "base_uri": "https://localhost:8080/",
          "height": 313
        },
        "id": "9p6dnlTF26M1",
        "outputId": "395b6570-e561-45dd-dafc-c1a3a45e2496"
      },
      "source": [
        "y_score = svm.decision_function(X)\n",
        "auc = roc_auc_score(Y,y_score)\n",
        "print('auc:',auc)\n",
        "\n",
        "fpr, tpr, thresholds = roc_curve(Y, y_score)\n",
        "\n",
        "plt.plot(fpr, tpr, label='baseline(AUC = %.3f)'%auc)\n",
        "plt.plot([0,1],[0,1],'k--')\n",
        "plt.legend()\n",
        "plt.title('ROC curve')\n",
        "plt.xlabel('False Positive Rate')\n",
        "plt.ylabel('True Positive Rate')\n",
        "plt.grid(True)\n",
        "plt.show()"
      ],
      "execution_count": null,
      "outputs": [
        {
          "output_type": "stream",
          "text": [
            "auc: 0.9901\n"
          ],
          "name": "stdout"
        },
        {
          "output_type": "display_data",
          "data": {
            "image/png": "[encoded data removed]",
            "text/plain": [
              "<Figure size 432x288 with 1 Axes>"
            ]
          },
          "metadata": {
            "tags": [],
            "needs_background": "light"
          }
        }
      ]
    }
  ]
}